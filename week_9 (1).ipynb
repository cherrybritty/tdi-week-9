{
  "nbformat": 4,
  "nbformat_minor": 0,
  "metadata": {
    "colab": {
      "provenance": []
    },
    "kernelspec": {
      "name": "python3",
      "display_name": "Python 3"
    },
    "language_info": {
      "name": "python"
    }
  },
  "cells": [
    {
      "cell_type": "code",
      "source": [
        "!git clone https://github.com/cherrybritty/DS-ASSIGNMENT-WEEK08.git"
      ],
      "metadata": {
        "colab": {
          "base_uri": "https://localhost:8080/"
        },
        "id": "BWWRiX2dPIOS",
        "outputId": "20eeab0c-8e92-4858-852b-37ee2a760fcd"
      },
      "execution_count": null,
      "outputs": [
        {
          "output_type": "stream",
          "name": "stdout",
          "text": [
            "fatal: destination path 'DS-ASSIGNMENT-WEEK08' already exists and is not an empty directory.\n"
          ]
        }
      ]
    },
    {
      "cell_type": "code",
      "execution_count": null,
      "metadata": {
        "id": "AjibjMivHBkZ"
      },
      "outputs": [],
      "source": [
        "import pandas as pd\n",
        "import numpy as np\n",
        "import string\n",
        "import re\n"
      ]
    },
    {
      "cell_type": "code",
      "source": [
        "df = pd.read_csv('wine-ratings.csv')"
      ],
      "metadata": {
        "id": "8ugUbRtoJcew"
      },
      "execution_count": null,
      "outputs": []
    },
    {
      "cell_type": "code",
      "source": [
        "non_dm_data = df.drop_duplicates().copy()\n",
        "non_dm_data.dropna(inplace=True)"
      ],
      "metadata": {
        "id": "TGfLXnWRNNVl"
      },
      "execution_count": null,
      "outputs": []
    },
    {
      "cell_type": "code",
      "source": [
        "pd.set_option('display.max_columns', None)\n",
        "non_dm_data.loc[:,'city']= non_dm_data['region'].str.split(',').str[-2].str.lower().str.strip()\n",
        "non_dm_data.loc[:,'country']= non_dm_data['region'].str.split(',').str[-1].str.lower().str.strip()\n",
        "non_dm_data.groupby(['city', 'country']).size().reset_index(name='count').sort_values(by='count', ascending=False).head(10)\n",
        "\n"
      ],
      "metadata": {
        "colab": {
          "base_uri": "https://localhost:8080/",
          "height": 363
        },
        "id": "S_ECAVCbNM_Z",
        "outputId": "6732e865-010c-4eec-ce27-8593529e21c6"
      },
      "execution_count": null,
      "outputs": [
        {
          "output_type": "execute_result",
          "data": {
            "text/plain": [
              "                  city     country  count\n",
              "60         napa valley  california   3893\n",
              "97       sonoma county  california   2973\n",
              "8             bordeaux      france   2769\n",
              "81               rhone      france   2063\n",
              "108            tuscany       italy   2021\n",
              "16       central coast  california   1846\n",
              "19     columbia valley  washington   1551\n",
              "10            burgundy      france   1411\n",
              "122  willamette valley      oregon   1260\n",
              "98     south australia   australia   1097"
            ],
            "text/html": [
              "\n",
              "  <div id=\"df-33fb7791-3608-44e4-978c-0448c3f071aa\" class=\"colab-df-container\">\n",
              "    <div>\n",
              "<style scoped>\n",
              "    .dataframe tbody tr th:only-of-type {\n",
              "        vertical-align: middle;\n",
              "    }\n",
              "\n",
              "    .dataframe tbody tr th {\n",
              "        vertical-align: top;\n",
              "    }\n",
              "\n",
              "    .dataframe thead th {\n",
              "        text-align: right;\n",
              "    }\n",
              "</style>\n",
              "<table border=\"1\" class=\"dataframe\">\n",
              "  <thead>\n",
              "    <tr style=\"text-align: right;\">\n",
              "      <th></th>\n",
              "      <th>city</th>\n",
              "      <th>country</th>\n",
              "      <th>count</th>\n",
              "    </tr>\n",
              "  </thead>\n",
              "  <tbody>\n",
              "    <tr>\n",
              "      <th>60</th>\n",
              "      <td>napa valley</td>\n",
              "      <td>california</td>\n",
              "      <td>3893</td>\n",
              "    </tr>\n",
              "    <tr>\n",
              "      <th>97</th>\n",
              "      <td>sonoma county</td>\n",
              "      <td>california</td>\n",
              "      <td>2973</td>\n",
              "    </tr>\n",
              "    <tr>\n",
              "      <th>8</th>\n",
              "      <td>bordeaux</td>\n",
              "      <td>france</td>\n",
              "      <td>2769</td>\n",
              "    </tr>\n",
              "    <tr>\n",
              "      <th>81</th>\n",
              "      <td>rhone</td>\n",
              "      <td>france</td>\n",
              "      <td>2063</td>\n",
              "    </tr>\n",
              "    <tr>\n",
              "      <th>108</th>\n",
              "      <td>tuscany</td>\n",
              "      <td>italy</td>\n",
              "      <td>2021</td>\n",
              "    </tr>\n",
              "    <tr>\n",
              "      <th>16</th>\n",
              "      <td>central coast</td>\n",
              "      <td>california</td>\n",
              "      <td>1846</td>\n",
              "    </tr>\n",
              "    <tr>\n",
              "      <th>19</th>\n",
              "      <td>columbia valley</td>\n",
              "      <td>washington</td>\n",
              "      <td>1551</td>\n",
              "    </tr>\n",
              "    <tr>\n",
              "      <th>10</th>\n",
              "      <td>burgundy</td>\n",
              "      <td>france</td>\n",
              "      <td>1411</td>\n",
              "    </tr>\n",
              "    <tr>\n",
              "      <th>122</th>\n",
              "      <td>willamette valley</td>\n",
              "      <td>oregon</td>\n",
              "      <td>1260</td>\n",
              "    </tr>\n",
              "    <tr>\n",
              "      <th>98</th>\n",
              "      <td>south australia</td>\n",
              "      <td>australia</td>\n",
              "      <td>1097</td>\n",
              "    </tr>\n",
              "  </tbody>\n",
              "</table>\n",
              "</div>\n",
              "    <div class=\"colab-df-buttons\">\n",
              "\n",
              "  <div class=\"colab-df-container\">\n",
              "    <button class=\"colab-df-convert\" onclick=\"convertToInteractive('df-33fb7791-3608-44e4-978c-0448c3f071aa')\"\n",
              "            title=\"Convert this dataframe to an interactive table.\"\n",
              "            style=\"display:none;\">\n",
              "\n",
              "  <svg xmlns=\"http://www.w3.org/2000/svg\" height=\"24px\" viewBox=\"0 -960 960 960\">\n",
              "    <path d=\"M120-120v-720h720v720H120Zm60-500h600v-160H180v160Zm220 220h160v-160H400v160Zm0 220h160v-160H400v160ZM180-400h160v-160H180v160Zm440 0h160v-160H620v160ZM180-180h160v-160H180v160Zm440 0h160v-160H620v160Z\"/>\n",
              "  </svg>\n",
              "    </button>\n",
              "\n",
              "  <style>\n",
              "    .colab-df-container {\n",
              "      display:flex;\n",
              "      gap: 12px;\n",
              "    }\n",
              "\n",
              "    .colab-df-convert {\n",
              "      background-color: #E8F0FE;\n",
              "      border: none;\n",
              "      border-radius: 50%;\n",
              "      cursor: pointer;\n",
              "      display: none;\n",
              "      fill: #1967D2;\n",
              "      height: 32px;\n",
              "      padding: 0 0 0 0;\n",
              "      width: 32px;\n",
              "    }\n",
              "\n",
              "    .colab-df-convert:hover {\n",
              "      background-color: #E2EBFA;\n",
              "      box-shadow: 0px 1px 2px rgba(60, 64, 67, 0.3), 0px 1px 3px 1px rgba(60, 64, 67, 0.15);\n",
              "      fill: #174EA6;\n",
              "    }\n",
              "\n",
              "    .colab-df-buttons div {\n",
              "      margin-bottom: 4px;\n",
              "    }\n",
              "\n",
              "    [theme=dark] .colab-df-convert {\n",
              "      background-color: #3B4455;\n",
              "      fill: #D2E3FC;\n",
              "    }\n",
              "\n",
              "    [theme=dark] .colab-df-convert:hover {\n",
              "      background-color: #434B5C;\n",
              "      box-shadow: 0px 1px 3px 1px rgba(0, 0, 0, 0.15);\n",
              "      filter: drop-shadow(0px 1px 2px rgba(0, 0, 0, 0.3));\n",
              "      fill: #FFFFFF;\n",
              "    }\n",
              "  </style>\n",
              "\n",
              "    <script>\n",
              "      const buttonEl =\n",
              "        document.querySelector('#df-33fb7791-3608-44e4-978c-0448c3f071aa button.colab-df-convert');\n",
              "      buttonEl.style.display =\n",
              "        google.colab.kernel.accessAllowed ? 'block' : 'none';\n",
              "\n",
              "      async function convertToInteractive(key) {\n",
              "        const element = document.querySelector('#df-33fb7791-3608-44e4-978c-0448c3f071aa');\n",
              "        const dataTable =\n",
              "          await google.colab.kernel.invokeFunction('convertToInteractive',\n",
              "                                                    [key], {});\n",
              "        if (!dataTable) return;\n",
              "\n",
              "        const docLinkHtml = 'Like what you see? Visit the ' +\n",
              "          '<a target=\"_blank\" href=https://colab.research.google.com/notebooks/data_table.ipynb>data table notebook</a>'\n",
              "          + ' to learn more about interactive tables.';\n",
              "        element.innerHTML = '';\n",
              "        dataTable['output_type'] = 'display_data';\n",
              "        await google.colab.output.renderOutput(dataTable, element);\n",
              "        const docLink = document.createElement('div');\n",
              "        docLink.innerHTML = docLinkHtml;\n",
              "        element.appendChild(docLink);\n",
              "      }\n",
              "    </script>\n",
              "  </div>\n",
              "\n",
              "\n",
              "<div id=\"df-90e94ece-5f7c-49bb-be00-5183f8b3fbc8\">\n",
              "  <button class=\"colab-df-quickchart\" onclick=\"quickchart('df-90e94ece-5f7c-49bb-be00-5183f8b3fbc8')\"\n",
              "            title=\"Suggest charts\"\n",
              "            style=\"display:none;\">\n",
              "\n",
              "<svg xmlns=\"http://www.w3.org/2000/svg\" height=\"24px\"viewBox=\"0 0 24 24\"\n",
              "     width=\"24px\">\n",
              "    <g>\n",
              "        <path d=\"M19 3H5c-1.1 0-2 .9-2 2v14c0 1.1.9 2 2 2h14c1.1 0 2-.9 2-2V5c0-1.1-.9-2-2-2zM9 17H7v-7h2v7zm4 0h-2V7h2v10zm4 0h-2v-4h2v4z\"/>\n",
              "    </g>\n",
              "</svg>\n",
              "  </button>\n",
              "\n",
              "<style>\n",
              "  .colab-df-quickchart {\n",
              "      --bg-color: #E8F0FE;\n",
              "      --fill-color: #1967D2;\n",
              "      --hover-bg-color: #E2EBFA;\n",
              "      --hover-fill-color: #174EA6;\n",
              "      --disabled-fill-color: #AAA;\n",
              "      --disabled-bg-color: #DDD;\n",
              "  }\n",
              "\n",
              "  [theme=dark] .colab-df-quickchart {\n",
              "      --bg-color: #3B4455;\n",
              "      --fill-color: #D2E3FC;\n",
              "      --hover-bg-color: #434B5C;\n",
              "      --hover-fill-color: #FFFFFF;\n",
              "      --disabled-bg-color: #3B4455;\n",
              "      --disabled-fill-color: #666;\n",
              "  }\n",
              "\n",
              "  .colab-df-quickchart {\n",
              "    background-color: var(--bg-color);\n",
              "    border: none;\n",
              "    border-radius: 50%;\n",
              "    cursor: pointer;\n",
              "    display: none;\n",
              "    fill: var(--fill-color);\n",
              "    height: 32px;\n",
              "    padding: 0;\n",
              "    width: 32px;\n",
              "  }\n",
              "\n",
              "  .colab-df-quickchart:hover {\n",
              "    background-color: var(--hover-bg-color);\n",
              "    box-shadow: 0 1px 2px rgba(60, 64, 67, 0.3), 0 1px 3px 1px rgba(60, 64, 67, 0.15);\n",
              "    fill: var(--button-hover-fill-color);\n",
              "  }\n",
              "\n",
              "  .colab-df-quickchart-complete:disabled,\n",
              "  .colab-df-quickchart-complete:disabled:hover {\n",
              "    background-color: var(--disabled-bg-color);\n",
              "    fill: var(--disabled-fill-color);\n",
              "    box-shadow: none;\n",
              "  }\n",
              "\n",
              "  .colab-df-spinner {\n",
              "    border: 2px solid var(--fill-color);\n",
              "    border-color: transparent;\n",
              "    border-bottom-color: var(--fill-color);\n",
              "    animation:\n",
              "      spin 1s steps(1) infinite;\n",
              "  }\n",
              "\n",
              "  @keyframes spin {\n",
              "    0% {\n",
              "      border-color: transparent;\n",
              "      border-bottom-color: var(--fill-color);\n",
              "      border-left-color: var(--fill-color);\n",
              "    }\n",
              "    20% {\n",
              "      border-color: transparent;\n",
              "      border-left-color: var(--fill-color);\n",
              "      border-top-color: var(--fill-color);\n",
              "    }\n",
              "    30% {\n",
              "      border-color: transparent;\n",
              "      border-left-color: var(--fill-color);\n",
              "      border-top-color: var(--fill-color);\n",
              "      border-right-color: var(--fill-color);\n",
              "    }\n",
              "    40% {\n",
              "      border-color: transparent;\n",
              "      border-right-color: var(--fill-color);\n",
              "      border-top-color: var(--fill-color);\n",
              "    }\n",
              "    60% {\n",
              "      border-color: transparent;\n",
              "      border-right-color: var(--fill-color);\n",
              "    }\n",
              "    80% {\n",
              "      border-color: transparent;\n",
              "      border-right-color: var(--fill-color);\n",
              "      border-bottom-color: var(--fill-color);\n",
              "    }\n",
              "    90% {\n",
              "      border-color: transparent;\n",
              "      border-bottom-color: var(--fill-color);\n",
              "    }\n",
              "  }\n",
              "</style>\n",
              "\n",
              "  <script>\n",
              "    async function quickchart(key) {\n",
              "      const quickchartButtonEl =\n",
              "        document.querySelector('#' + key + ' button');\n",
              "      quickchartButtonEl.disabled = true;  // To prevent multiple clicks.\n",
              "      quickchartButtonEl.classList.add('colab-df-spinner');\n",
              "      try {\n",
              "        const charts = await google.colab.kernel.invokeFunction(\n",
              "            'suggestCharts', [key], {});\n",
              "      } catch (error) {\n",
              "        console.error('Error during call to suggestCharts:', error);\n",
              "      }\n",
              "      quickchartButtonEl.classList.remove('colab-df-spinner');\n",
              "      quickchartButtonEl.classList.add('colab-df-quickchart-complete');\n",
              "    }\n",
              "    (() => {\n",
              "      let quickchartButtonEl =\n",
              "        document.querySelector('#df-90e94ece-5f7c-49bb-be00-5183f8b3fbc8 button');\n",
              "      quickchartButtonEl.style.display =\n",
              "        google.colab.kernel.accessAllowed ? 'block' : 'none';\n",
              "    })();\n",
              "  </script>\n",
              "</div>\n",
              "\n",
              "    </div>\n",
              "  </div>\n"
            ],
            "application/vnd.google.colaboratory.intrinsic+json": {
              "type": "dataframe",
              "summary": "{\n  \"name\": \"non_dm_data\",\n  \"rows\": 10,\n  \"fields\": [\n    {\n      \"column\": \"city\",\n      \"properties\": {\n        \"dtype\": \"string\",\n        \"num_unique_values\": 10,\n        \"samples\": [\n          \"willamette valley\",\n          \"sonoma county\",\n          \"central coast\"\n        ],\n        \"semantic_type\": \"\",\n        \"description\": \"\"\n      }\n    },\n    {\n      \"column\": \"country\",\n      \"properties\": {\n        \"dtype\": \"string\",\n        \"num_unique_values\": 6,\n        \"samples\": [\n          \"california\",\n          \"france\",\n          \"australia\"\n        ],\n        \"semantic_type\": \"\",\n        \"description\": \"\"\n      }\n    },\n    {\n      \"column\": \"count\",\n      \"properties\": {\n        \"dtype\": \"number\",\n        \"std\": 880,\n        \"min\": 1097,\n        \"max\": 3893,\n        \"num_unique_values\": 10,\n        \"samples\": [\n          1260,\n          2973,\n          1846\n        ],\n        \"semantic_type\": \"\",\n        \"description\": \"\"\n      }\n    }\n  ]\n}"
            }
          },
          "metadata": {},
          "execution_count": 64
        }
      ]
    },
    {
      "cell_type": "code",
      "source": [
        "non_dm_data.loc[non_dm_data['city'] == 'paris', 'country'] = non_dm_data.loc[non_dm_data['city'] == 'paris', 'country'].fillna('france')"
      ],
      "metadata": {
        "id": "ZvQnrcFHRkpY"
      },
      "execution_count": null,
      "outputs": []
    },
    {
      "cell_type": "code",
      "source": [
        "wine_variety_distribution = non_dm_data['variety'].value_counts(normalize=True) * 100\n",
        "non_dm_data.loc[:,'wine_variety_distribution'] = non_dm_data['variety'].map(wine_variety_distribution)\n",
        "\n",
        "print(wine_variety_distribution.round(1))"
      ],
      "metadata": {
        "colab": {
          "base_uri": "https://localhost:8080/"
        },
        "id": "8h0ImsaNTflw",
        "outputId": "80944187-e48d-407b-8ac2-ce12446e9d4c"
      },
      "execution_count": null,
      "outputs": [
        {
          "output_type": "stream",
          "name": "stdout",
          "text": [
            "variety\n",
            "Red Wine                 72.0\n",
            "White Wine               23.0\n",
            "Sparkling & Champagne     2.6\n",
            "Pink and Rosé             1.5\n",
            "Collectible               0.7\n",
            "Green Wine                0.1\n",
            "Boutique                  0.1\n",
            "Screw Cap                 0.0\n",
            "Name: proportion, dtype: float64\n"
          ]
        }
      ]
    },
    {
      "cell_type": "code",
      "source": [
        "def classify_wine(rating):\n",
        "    if 85 <= rating <= 89:\n",
        "        return 'Good'\n",
        "    elif 90 <= rating <= 94:\n",
        "        return 'Outstanding'\n",
        "    elif 95 <= rating <= 100:\n",
        "        return 'Exceptional'\n",
        "    return np.nan\n",
        "\n",
        "non_dm_data.loc[:, 'wine_quality'] = non_dm_data['rating'].apply(classify_wine)\n"
      ],
      "metadata": {
        "id": "4Kh_BJr_Tzf5"
      },
      "execution_count": null,
      "outputs": []
    },
    {
      "cell_type": "code",
      "source": [
        "non_dm_data_2 = non_dm_data.copy()\n"
      ],
      "metadata": {
        "id": "8qD0pAX7976U"
      },
      "execution_count": null,
      "outputs": []
    },
    {
      "cell_type": "code",
      "source": [
        "non_dm_data_2['cleaned_text'] = non_dm_data_2['notes'].str.lower()\n"
      ],
      "metadata": {
        "id": "dVvB8QliLtJE"
      },
      "execution_count": null,
      "outputs": []
    },
    {
      "cell_type": "code",
      "source": [
        "string.punctuation"
      ],
      "metadata": {
        "colab": {
          "base_uri": "https://localhost:8080/",
          "height": 36
        },
        "id": "YF3uYv9-qffi",
        "outputId": "b9c2dbe9-caa6-4e35-8e18-c0481658ded1"
      },
      "execution_count": null,
      "outputs": [
        {
          "output_type": "execute_result",
          "data": {
            "text/plain": [
              "'!\"#$%&\\'()*+,-./:;<=>?@[\\\\]^_`{|}~'"
            ],
            "application/vnd.google.colaboratory.intrinsic+json": {
              "type": "string"
            }
          },
          "metadata": {},
          "execution_count": 71
        }
      ]
    },
    {
      "cell_type": "code",
      "source": [
        "def remove_punctuation(cleaned_text):\n",
        "    punctuations = string.punctuation\n",
        "    return cleaned_text.translate(str.maketrans('', '', string.punctuation))\n"
      ],
      "metadata": {
        "id": "xXSREympo9CC"
      },
      "execution_count": null,
      "outputs": []
    },
    {
      "cell_type": "code",
      "source": [
        "non_dm_data_2.loc[:, 'punctuated_text'] = non_dm_data_2['cleaned_text'].apply(lambda x: remove_punctuation(x))"
      ],
      "metadata": {
        "id": "Kd8pgbxErl3e"
      },
      "execution_count": null,
      "outputs": []
    },
    {
      "cell_type": "code",
      "source": [
        "import re\n",
        "\n",
        "def remove_numbers(punctuated_text):\n",
        "    return re.sub(r'\\d+', '', punctuated_text)"
      ],
      "metadata": {
        "id": "yNwdhxxgMz-C"
      },
      "execution_count": null,
      "outputs": []
    },
    {
      "cell_type": "code",
      "source": [
        "non_dm_data_2.loc[:, 'numbers_cleaned'] = non_dm_data_2['punctuated_text'].apply(lambda x: remove_numbers(x))"
      ],
      "metadata": {
        "id": "15Gdg-RSSFzn"
      },
      "execution_count": null,
      "outputs": []
    },
    {
      "cell_type": "code",
      "source": [
        "import nltk\n",
        "from nltk import pos_tag\n",
        "nltk.download('wordnet')\n",
        "from nltk.corpus import wordnet\n",
        "nltk.download('averaged_perceptron_tagger')\n",
        "from nltk.stem import WordNetLemmatizer\n",
        "lemmatizer = WordNetLemmatizer()\n",
        "wordnet_map = {\"N\":wordnet.NOUN, \"V\":wordnet.VERB, \"J\":wordnet.ADJ, \"R\":wordnet.ADV}\n",
        "\n",
        "def lemmatize_words(numbers_cleaned, separator=\" \"):\n",
        "    lemmatized_text = pos_tag(numbers_cleaned.split())\n",
        "    return \" \".join([lemmatizer.lemmatize(word, wordnet_map.get(pos[0], wordnet.NOUN)) for word, pos in lemmatized_text])\n"
      ],
      "metadata": {
        "colab": {
          "base_uri": "https://localhost:8080/"
        },
        "id": "lCR6VFU0T0KC",
        "outputId": "fafa4cc5-da27-4f74-c3eb-e1ef05d16522"
      },
      "execution_count": null,
      "outputs": [
        {
          "output_type": "stream",
          "name": "stderr",
          "text": [
            "[nltk_data] Downloading package wordnet to /root/nltk_data...\n",
            "[nltk_data]   Package wordnet is already up-to-date!\n",
            "[nltk_data] Downloading package averaged_perceptron_tagger to\n",
            "[nltk_data]     /root/nltk_data...\n",
            "[nltk_data]   Package averaged_perceptron_tagger is already up-to-\n",
            "[nltk_data]       date!\n"
          ]
        }
      ]
    },
    {
      "cell_type": "code",
      "source": [
        "from nltk.corpus import stopwords\n",
        "nltk.download('stopwords')\n",
        "stop_words = stopwords.words('english')\n",
        "\n",
        "non_dm_data_2.loc[:, 'lemmatized_text'] = non_dm_data_2['numbers_cleaned'].apply(lambda x: lemmatize_words(x))\n",
        "\n",
        "non_dm_data_2.loc[:, 'description_token'] = non_dm_data_2['lemmatized_text'].apply (lambda x: \" \".join(word for word in x.split() if word not in stop_words))\n"
      ],
      "metadata": {
        "colab": {
          "base_uri": "https://localhost:8080/"
        },
        "id": "QwuED2lOUaYm",
        "outputId": "302201bc-9ef1-446a-a6e5-11a127ad16b4"
      },
      "execution_count": null,
      "outputs": [
        {
          "output_type": "stream",
          "name": "stderr",
          "text": [
            "[nltk_data] Downloading package stopwords to /root/nltk_data...\n",
            "[nltk_data]   Package stopwords is already up-to-date!\n"
          ]
        }
      ]
    },
    {
      "cell_type": "code",
      "source": [
        "non_dm_data_2.drop(columns=['city', 'lemmatized_text', 'punctuated_text', 'numbers_cleaned', 'cleaned_text', 'region'], inplace=True)"
      ],
      "metadata": {
        "id": "0ZSUu2Gp3KFY"
      },
      "execution_count": null,
      "outputs": []
    },
    {
      "cell_type": "code",
      "source": [
        "non_dm_data_2 = non_dm_data_2.rename(columns={'country': 'Region'})"
      ],
      "metadata": {
        "id": "Mni9anu1vV6c"
      },
      "execution_count": null,
      "outputs": []
    },
    {
      "cell_type": "code",
      "source": [
        "from collections import Counter\n",
        "\n",
        "def get_top_words(non_dm_data_2, quality, top_words=5):\n",
        "    text = \" \".join(non_dm_data_2[non_dm_data_2[\"wine_quality\"] == quality][\"description_token\"].astype(str).tolist())\n",
        "    words = text.split()\n",
        "    word_counts = Counter(words)\n",
        "    return word_counts.most_common(top_words)\n",
        "\n",
        "\n",
        "qualities = [\"Good\", \"Outstanding\", \"Exceptional\"]\n",
        "for quality in qualities:\n",
        "    top_words = get_top_words(non_dm_data_2, quality)\n",
        "    print(f\"Top 5 words for {quality} wines:\")\n",
        "    for word, count in top_words:\n",
        "        print(f\" . {word}: {count}\")\n"
      ],
      "metadata": {
        "colab": {
          "base_uri": "https://localhost:8080/"
        },
        "id": "Hth5o1jCojZd",
        "outputId": "be47f1d0-9c95-4496-d351-610393d8b0e9"
      },
      "execution_count": null,
      "outputs": [
        {
          "output_type": "stream",
          "name": "stdout",
          "text": [
            "Top 5 words for Good wines:\n",
            " . wine: 3544\n",
            " . fruit: 2783\n",
            " . flavor: 2133\n",
            " . aroma: 1783\n",
            " . finish: 1750\n",
            "Top 5 words for Outstanding wines:\n",
            " . wine: 20052\n",
            " . fruit: 14836\n",
            " . aroma: 9064\n",
            " . finish: 8804\n",
            " . palate: 8747\n",
            "Top 5 words for Exceptional wines:\n",
            " . wine: 2148\n",
            " . fruit: 1282\n",
            " . tannin: 730\n",
            " . black: 719\n",
            " . palate: 705\n"
          ]
        }
      ]
    },
    {
      "cell_type": "code",
      "source": [
        "top_exceptional_regions = non_dm_data_2[non_dm_data_2['wine_quality'] == 'Exceptional']['Region'].value_counts().head(5)\n",
        "print(top_exceptional_regions)"
      ],
      "metadata": {
        "colab": {
          "base_uri": "https://localhost:8080/"
        },
        "id": "V21yCmJixVIR",
        "outputId": "b2cc567a-da13-4dfa-95fc-7f2f0f52c3cf"
      },
      "execution_count": null,
      "outputs": [
        {
          "output_type": "stream",
          "name": "stdout",
          "text": [
            "Region\n",
            "france        994\n",
            "california    804\n",
            "italy         269\n",
            "australia     124\n",
            "spain         108\n",
            "Name: count, dtype: int64\n"
          ]
        }
      ]
    },
    {
      "cell_type": "code",
      "source": [
        "Region_diversity = non_dm_data_2.groupby('Region')['variety'].nunique().sort_values(ascending=False)\n",
        "print(Region_diversity.head(10))"
      ],
      "metadata": {
        "colab": {
          "base_uri": "https://localhost:8080/"
        },
        "id": "w9zv2kweyjmW",
        "outputId": "a3288fc1-25f5-4f52-d405-24a5aa2e8117"
      },
      "execution_count": null,
      "outputs": [
        {
          "output_type": "stream",
          "name": "stdout",
          "text": [
            "Region\n",
            "australia       8\n",
            "italy           7\n",
            "california      7\n",
            "france          7\n",
            "spain           6\n",
            "south africa    6\n",
            "oregon          6\n",
            "portugal        5\n",
            "other u.s.      5\n",
            "washington      5\n",
            "Name: variety, dtype: int64\n"
          ]
        }
      ]
    }
  ]
}